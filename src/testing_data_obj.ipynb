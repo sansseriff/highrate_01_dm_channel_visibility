{
 "cells": [
  {
   "cell_type": "code",
   "execution_count": 1,
   "id": "c3457d9a-b6b8-49ae-947c-aee6572c1392",
   "metadata": {
    "tags": []
   },
   "outputs": [],
   "source": [
    "from snsphd.obj import DataObj\n",
    "import orjson"
   ]
  },
  {
   "cell_type": "code",
   "execution_count": 2,
   "id": "1a2fff12-0882-4388-9d47-3b234ba1a493",
   "metadata": {
    "tags": []
   },
   "outputs": [],
   "source": [
    "with open(\"../data/channel_visibility_dm_35_59.json\", 'rb') as f:\n",
    "    data = orjson.loads(f.read())"
   ]
  },
  {
   "cell_type": "code",
   "execution_count": 6,
   "id": "2b2451ce-41e0-4b85-b234-0c9f4efa0e0d",
   "metadata": {
    "tags": []
   },
   "outputs": [],
   "source": [
    "data_ob = DataObj(dic=data)"
   ]
  },
  {
   "cell_type": "code",
   "execution_count": 9,
   "id": "81283848-0275-45f6-8ef8-34b8f831967d",
   "metadata": {},
   "outputs": [
    {
     "data": {
      "text/plain": [
       "dict_keys(['name', 'label', 'results', 'integration_results'])"
      ]
     },
     "execution_count": 9,
     "metadata": {},
     "output_type": "execute_result"
    }
   ],
   "source": [
    "data_ob.results[3].keys()"
   ]
  },
  {
   "cell_type": "code",
   "execution_count": null,
   "id": "0093270a-2aae-4c1b-83c9-6486f3693599",
   "metadata": {},
   "outputs": [],
   "source": [
    "data_ob.results[3].keys()"
   ]
  }
 ],
 "metadata": {
  "kernelspec": {
   "display_name": "Python 3 (ipykernel)",
   "language": "python",
   "name": "python3"
  },
  "language_info": {
   "codemirror_mode": {
    "name": "ipython",
    "version": 3
   },
   "file_extension": ".py",
   "mimetype": "text/x-python",
   "name": "python",
   "nbconvert_exporter": "python",
   "pygments_lexer": "ipython3",
   "version": "3.10.8"
  }
 },
 "nbformat": 4,
 "nbformat_minor": 5
}
